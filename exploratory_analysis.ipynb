{
 "metadata": {
  "name": "",
  "signature": "sha256:b408346bd39ab6bf9cdfd39fc39c1a2cc2ebc8c5f9241698a858f2011219241f"
 },
 "nbformat": 3,
 "nbformat_minor": 0,
 "worksheets": [
  {
   "cells": [
    {
     "cell_type": "code",
     "collapsed": false,
     "input": [
      "%matplotlib inline"
     ],
     "language": "python",
     "metadata": {},
     "outputs": [],
     "prompt_number": 2
    },
    {
     "cell_type": "code",
     "collapsed": false,
     "input": [
      "import pandas\n",
      "import numpy\n",
      "import matplotlib.pyplot as plt"
     ],
     "language": "python",
     "metadata": {},
     "outputs": [],
     "prompt_number": 3
    },
    {
     "cell_type": "code",
     "collapsed": false,
     "input": [
      "data = pandas.read_csv('./target/data.csv', delimiter=';', encoding='utf-8')"
     ],
     "language": "python",
     "metadata": {},
     "outputs": [],
     "prompt_number": 4
    },
    {
     "cell_type": "code",
     "collapsed": false,
     "input": [
      "def normalize_lawyer(name):\n",
      "    if not isinstance(name, unicode) and not isinstance(name, str):\n",
      "        return None\n",
      "    titles = [\n",
      "        u'ThMgr.', u'Mgr.', 'MUDr.', u'JUDr.', u'doc.', u'advok\u00e1tem', u'advok\u00e1tkou',\n",
      "        u'Dr.', 'Ing.', ' et ', 'CSc.', 'Ph.D.', 'LL.M.', 'Bc.', 'Prof.', 'MgA.', 'JUDr',\n",
      "        'PhD.', 'Doc.', 'prof.', 'LLM.', 'LL. M.', 'LL.M',\n",
      "    ]\n",
      "    for title in titles:\n",
      "        name = name.replace(title, '')\n",
      "    name = name.strip()\n",
      "    if len(name.split(' ')) != 2:\n",
      "        return None\n",
      "    return name\n",
      "\n",
      "def is_won(decision_type):\n",
      "    return u'vyhov\u011bno' in decision_type.lower()\n",
      "\n",
      "data['lawyer_normalized'] = data['lawyer'].apply(normalize_lawyer)\n",
      "data['is_won'] = data[u'Typ v\u00fdroku'].apply(is_won)\n",
      "findings = data[data[u'Forma rozhodnut\u00ed'] == u'N\u00e1lez']\n",
      "decisions = data[data[u'Forma rozhodnut\u00ed'] == u'Usnesen\u00ed']"
     ],
     "language": "python",
     "metadata": {},
     "outputs": [],
     "prompt_number": 5
    },
    {
     "cell_type": "code",
     "collapsed": false,
     "input": [
      "lawyers_by_count = data.groupby('lawyer_normalized').apply(len).to_dict()\n",
      "pandas.DataFrame(map(\n",
      "    lambda x: {'lawyer': x[0], 'count': x[1]},\n",
      "    sorted(lawyers_by_count.items(), key=lambda x: x[1], reverse=True))\n",
      ").to_csv('./target/lawyers_by_count.csv', index=False, encoding='utf-8')"
     ],
     "language": "python",
     "metadata": {},
     "outputs": [],
     "prompt_number": 6
    },
    {
     "cell_type": "code",
     "collapsed": false,
     "input": [
      "lawyers_by_success_total = data.groupby('lawyer_normalized').apply(lambda g: sum(g['is_won'])).to_dict()\n",
      "pandas.DataFrame(map(\n",
      "    lambda x: {'lawyer': x[0], 'count': x[1]},\n",
      "    sorted(lawyers_by_success_total.items(), reverse=True, key=lambda x: x[1]))\n",
      ").to_csv('./target/lawyers_by_success_total.csv', index=False, encoding='utf-8')"
     ],
     "language": "python",
     "metadata": {},
     "outputs": [],
     "prompt_number": 12
    },
    {
     "cell_type": "code",
     "collapsed": false,
     "input": [
      "lawyers_by_success = data.groupby('lawyer_normalized').apply(lambda g: g['is_won'].mean()).to_dict()\n",
      "pandas.DataFrame(map(\n",
      "    lambda x: {'lawyer': x[0], 'count': x[1]},\n",
      "    sorted(lawyers_by_success.items(), reverse=True, key=lambda x: x[1]))\n",
      ").to_csv('./target/lawyers_by_success.csv', index=False, encoding='utf-8')"
     ],
     "language": "python",
     "metadata": {},
     "outputs": [],
     "prompt_number": 8
    },
    {
     "cell_type": "code",
     "collapsed": false,
     "input": [
      "reporter_lawyer_findings = findings.groupby(['lawyer_normalized', 'Soudce zpravodaj']).apply(len)\n",
      "reporter_lawyer_decisions = decisions.groupby(['lawyer_normalized', 'Soudce zpravodaj']).apply(len)"
     ],
     "language": "python",
     "metadata": {},
     "outputs": [],
     "prompt_number": 9
    },
    {
     "cell_type": "code",
     "collapsed": false,
     "input": [
      "rows = []\n",
      "\n",
      "for group, _ in data.groupby(['lawyer_normalized', 'Soudce zpravodaj']):\n",
      "    rows.append({\n",
      "        'lawyer': group[0],\n",
      "        'judge': group[1],\n",
      "        'decisions': reporter_lawyer_decisions.get(group, 0),\n",
      "        'findings': reporter_lawyer_findings.get(group, 0),\n",
      "        'lawyer_total': lawyers_by_count[group[0]]\n",
      "    })\n",
      "\n",
      "result = pandas.DataFrame(rows)\n",
      "result.sort(columns='lawyer_total', inplace=True, ascending=False)\n",
      "print result.head(n=20)"
     ],
     "language": "python",
     "metadata": {},
     "outputs": [
      {
       "output_type": "stream",
       "stream": "stdout",
       "text": [
        "      decisions  findings               judge            lawyer  lawyer_total\n",
        "1200         14         0       G\u00fcttler Vojen  Ivanou Sl\u00e1dkovou           229\n",
        "1206          5         0          Mucha Ji\u0159\u00ed  Ivanou Sl\u00e1dkovou           229\n",
        "1211          7         0      Tomkov\u00e1 Milada  Ivanou Sl\u00e1dkovou           229\n",
        "1210          3         0   Sl\u00e1de\u010dek Vladim\u00edr  Ivanou Sl\u00e1dkovou           229\n",
        "1209         13         0     Rychetsk\u00fd Pavel  Ivanou Sl\u00e1dkovou           229\n",
        "1198          9         0           Filip Jan  Ivanou Sl\u00e1dkovou           229\n",
        "1205          1         0     Lichovn\u00edk Tom\u00e1\u0161  Ivanou Sl\u00e1dkovou           229\n",
        "1195         12         0     Bal\u00edk Stanislav  Ivanou Sl\u00e1dkovou           229\n",
        "1197          8         0      Fenyk Jaroslav  Ivanou Sl\u00e1dkovou           229\n",
        "1215         20         0   \u017didlick\u00e1 Michaela  Ivanou Sl\u00e1dkovou           229\n",
        "1208         18         0        Nykod\u00fdm Ji\u0159\u00ed  Ivanou Sl\u00e1dkovou           229\n",
        "1199         11         0   Form\u00e1nkov\u00e1 Vlasta  Ivanou Sl\u00e1dkovou           229\n",
        "1201         10         0     Holl\u00e4nder Pavel  Ivanou Sl\u00e1dkovou           229\n",
        "1202         28         0          Jan\u016f Ivana  Ivanou Sl\u00e1dkovou           229\n",
        "1203         21         0      K\u016frka Vladim\u00edr  Ivanou Sl\u00e1dkovou           229\n",
        "1212         13         0    V\u00fdborn\u00fd Miloslav  Ivanou Sl\u00e1dkovou           229\n",
        "1207         13         0           Musil Jan  Ivanou Sl\u00e1dkovou           229\n",
        "1204         16         0   Lastoveck\u00e1 Dagmar  Ivanou Sl\u00e1dkovou           229\n",
        "1214          2         0  \u0160im\u00e1\u010dkov\u00e1 Kate\u0159ina  Ivanou Sl\u00e1dkovou           229\n",
        "1213          2         0        Zem\u00e1nek Ji\u0159\u00ed  Ivanou Sl\u00e1dkovou           229\n",
        "\n",
        "[20 rows x 5 columns]\n"
       ]
      }
     ],
     "prompt_number": 14
    },
    {
     "cell_type": "code",
     "collapsed": false,
     "input": [
      "plt.hist(data.groupby(['lawyer_normalized', u'Soudce zpravodaj']).apply(len).to_dict().values(), log=True)\n",
      "plt.show()"
     ],
     "language": "python",
     "metadata": {},
     "outputs": [
      {
       "metadata": {},
       "output_type": "display_data",
       "png": "[encoded data removed]",
       "text": [
        "<matplotlib.figure.Figure at 0x7fca79539d50>"
       ]
      }
     ],
     "prompt_number": 11
    },
    {
     "cell_type": "code",
     "collapsed": false,
     "input": [],
     "language": "python",
     "metadata": {},
     "outputs": [],
     "prompt_number": 11
    }
   ],
   "metadata": {}
  }
 ]
}